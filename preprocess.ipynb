{
 "cells": [
  {
   "cell_type": "code",
   "execution_count": 2,
   "metadata": {},
   "outputs": [
    {
     "ename": "SyntaxError",
     "evalue": "(unicode error) 'unicodeescape' codec can't decode bytes in position 15-17: truncated \\UXXXXXXXX escape (896521754.py, line 4)",
     "output_type": "error",
     "traceback": [
      "\u001b[0;36m  Cell \u001b[0;32mIn[2], line 4\u001b[0;36m\u001b[0m\n\u001b[0;31m    df = pd.read_csv(\"\\\\wsl.localhost\\Ubuntu-22.04\\home\\dan\\CS project\\segcode\\Aras_transactions\\Aras_transactions.csv\")\u001b[0m\n\u001b[0m                                                                                                                       ^\u001b[0m\n\u001b[0;31mSyntaxError\u001b[0m\u001b[0;31m:\u001b[0m (unicode error) 'unicodeescape' codec can't decode bytes in position 15-17: truncated \\UXXXXXXXX escape\n"
     ]
    }
   ],
   "source": [
    "import pandas as pd\n",
    "\n",
    "# Load your data\n",
    "df = pd.read_csv(\"\\\\wsl.localhost\\Ubuntu-22.04\\home\\dan\\CS project\\segcode\\Aras_transactions\\Aras_transactions.csv\")\n",
    "\n",
    "# Extract relevant columns and rename them\n",
    "edge_list = df[['customers_id', 'articles_id', 'date']].rename(columns={'customers_id': 'user_id', 'articles_id': 'item_id', 'date': 'timestamp'})\n",
    "\n",
    "# Convert date to timestamp\n",
    "edge_list['timestamp'] = pd.to_datetime(edge_list['timestamp']).astype(int) // 10**9\n",
    "\n",
    "# Save to CSV\n",
    "edge_list.to_csv('processed_edge_list.csv', index=False)\n"
   ]
  }
 ],
 "metadata": {
  "kernelspec": {
   "display_name": "gnn",
   "language": "python",
   "name": "python3"
  },
  "language_info": {
   "codemirror_mode": {
    "name": "ipython",
    "version": 3
   },
   "file_extension": ".py",
   "mimetype": "text/x-python",
   "name": "python",
   "nbconvert_exporter": "python",
   "pygments_lexer": "ipython3",
   "version": "3.11.5"
  }
 },
 "nbformat": 4,
 "nbformat_minor": 2
}
